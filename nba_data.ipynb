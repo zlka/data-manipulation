{
 "cells": [
  {
   "cell_type": "markdown",
   "id": "4a4effda-4b9e-4c83-8ebd-1a3f9109569c",
   "metadata": {},
   "source": [
    "# NBA API\n"
   ]
  },
  {
   "cell_type": "markdown",
   "id": "b5cde0ad-82ea-4711-b02a-abd9cae21609",
   "metadata": {},
   "source": [
    "#### Calling the API\n"
   ]
  },
  {
   "cell_type": "code",
   "execution_count": 19,
   "id": "ba607259-661c-40de-b19b-c04e1ec8f2b9",
   "metadata": {},
   "outputs": [],
   "source": [
    "import requests\n",
    "import json\n",
    "import csv"
   ]
  },
  {
   "cell_type": "code",
   "execution_count": 20,
   "id": "0b916466-8431-4e87-9836-34cd17b77b4c",
   "metadata": {},
   "outputs": [],
   "source": [
    "response = requests.get(\"https://www.balldontlie.io/api/v1/games\")\n",
    "nba_games = response.json()"
   ]
  },
  {
   "cell_type": "code",
   "execution_count": 21,
   "id": "47c22b2c-34cc-4009-bf23-1e417d9514b5",
   "metadata": {},
   "outputs": [
    {
     "name": "stdout",
     "output_type": "stream",
     "text": [
      "25 games were found\n"
     ]
    },
    {
     "data": {
      "text/plain": [
       "{'season': 2018,\n",
       " 'team': 'Boston Celtics',\n",
       " 'score': 126,\n",
       " 'competitor': 'Boston Celtics',\n",
       " 'competitor_score': 94}"
      ]
     },
     "execution_count": 21,
     "metadata": {},
     "output_type": "execute_result"
    }
   ],
   "source": [
    "def select_data(data):\n",
    "    return {\n",
    "        \"season\": data[\"season\"],\n",
    "        \"team\": data[\"home_team\"][\"full_name\"],\n",
    "        \"score\": data[\"home_team_score\"],\n",
    "        \"competitor\": data[\"home_team\"][\"full_name\"],\n",
    "        \"competitor_score\": data[\"visitor_team_score\"],\n",
    "    }\n",
    "\n",
    "game = [select_data(g) for g in nba_games['data']]\n",
    "\n",
    "print(f'{len(game)} games were found')\n",
    "game[0]"
   ]
  },
  {
   "cell_type": "markdown",
   "id": "5c0e7129-3476-46cc-ab80-9b45cb2cb425",
   "metadata": {},
   "source": [
    "#### creating panda dataframe\n"
   ]
  },
  {
   "cell_type": "code",
   "execution_count": 23,
   "id": "1827168a-aa1f-4167-a6e7-912fb443bd80",
   "metadata": {},
   "outputs": [
    {
     "ename": "FileNotFoundError",
     "evalue": "[Errno 2] No such file or directory: 'data/nba_games.csv'",
     "output_type": "error",
     "traceback": [
      "\u001b[1;31m---------------------------------------------------------------------------\u001b[0m",
      "\u001b[1;31mFileNotFoundError\u001b[0m                         Traceback (most recent call last)",
      "Cell \u001b[1;32mIn [23], line 3\u001b[0m\n\u001b[0;32m      1\u001b[0m headers \u001b[38;5;241m=\u001b[39m [\u001b[38;5;124m\"\u001b[39m\u001b[38;5;124mseason\u001b[39m\u001b[38;5;124m\"\u001b[39m, \u001b[38;5;124m\"\u001b[39m\u001b[38;5;124mteam\u001b[39m\u001b[38;5;124m\"\u001b[39m, \u001b[38;5;124m\"\u001b[39m\u001b[38;5;124mscore\u001b[39m\u001b[38;5;124m\"\u001b[39m, \u001b[38;5;124m\"\u001b[39m\u001b[38;5;124mcompetitor\u001b[39m\u001b[38;5;124m\"\u001b[39m, \u001b[38;5;124m\"\u001b[39m\u001b[38;5;124mcompetitor_score\u001b[39m\u001b[38;5;124m\"\u001b[39m,]\n\u001b[1;32m----> 3\u001b[0m \u001b[38;5;28;01mwith\u001b[39;00m \u001b[38;5;28;43mopen\u001b[39;49m\u001b[43m(\u001b[49m\u001b[38;5;124;43m\"\u001b[39;49m\u001b[38;5;124;43mdata/nba_games.csv\u001b[39;49m\u001b[38;5;124;43m\"\u001b[39;49m\u001b[43m,\u001b[49m\u001b[43m \u001b[49m\u001b[38;5;124;43m\"\u001b[39;49m\u001b[38;5;124;43mw\u001b[39;49m\u001b[38;5;124;43m\"\u001b[39;49m\u001b[43m,\u001b[49m\u001b[43m \u001b[49m\u001b[43mnewline\u001b[49m\u001b[38;5;241;43m=\u001b[39;49m\u001b[38;5;124;43m'\u001b[39;49m\u001b[38;5;124;43m'\u001b[39;49m\u001b[43m)\u001b[49m \u001b[38;5;28;01mas\u001b[39;00m file:\n\u001b[0;32m      4\u001b[0m     f \u001b[38;5;241m=\u001b[39m csv\u001b[38;5;241m.\u001b[39mwriter(file)\n\u001b[0;32m      5\u001b[0m     f\u001b[38;5;241m.\u001b[39mwriterow(headers)\n",
      "\u001b[1;31mFileNotFoundError\u001b[0m: [Errno 2] No such file or directory: 'data/nba_games.csv'"
     ]
    }
   ],
   "source": [
    "headers = [\"season\", \"team\", \"score\", \"competitor\", \"competitor_score\",]\n",
    "\n",
    "with open(\"data/nba_games.csv\", \"w\", newline='') as file:\n",
    "    f = csv.writer(file)\n",
    "    f.writerow(headers)\n",
    "    for g in game:\n",
    "        values = [g[h] for h in headers]\n",
    "        f.writerow(values)\n"
   ]
  }
 ],
 "metadata": {
  "kernelspec": {
   "display_name": "Python 3 (ipykernel)",
   "language": "python",
   "name": "python3"
  },
  "language_info": {
   "codemirror_mode": {
    "name": "ipython",
    "version": 3
   },
   "file_extension": ".py",
   "mimetype": "text/x-python",
   "name": "python",
   "nbconvert_exporter": "python",
   "pygments_lexer": "ipython3",
   "version": "3.9.1"
  }
 },
 "nbformat": 4,
 "nbformat_minor": 5
}
