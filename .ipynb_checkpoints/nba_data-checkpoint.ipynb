{
 "cells": [
  {
   "cell_type": "markdown",
   "id": "4a4effda-4b9e-4c83-8ebd-1a3f9109569c",
   "metadata": {},
   "source": [
    "# NBA API\n"
   ]
  },
  {
   "cell_type": "code",
   "execution_count": 12,
   "id": "ba607259-661c-40de-b19b-c04e1ec8f2b9",
   "metadata": {},
   "outputs": [],
   "source": [
    "import requests"
   ]
  },
  {
   "cell_type": "code",
   "execution_count": 13,
   "id": "0b916466-8431-4e87-9836-34cd17b77b4c",
   "metadata": {},
   "outputs": [],
   "source": [
    "response = requests.get(\"https://www.balldontlie.io/api/v1/games\")\n",
    "nba_games = response.json()"
   ]
  },
  {
   "cell_type": "code",
   "execution_count": 14,
   "id": "47c22b2c-34cc-4009-bf23-1e417d9514b5",
   "metadata": {},
   "outputs": [
    {
     "name": "stdout",
     "output_type": "stream",
     "text": [
      "25 games created\n"
     ]
    },
    {
     "data": {
      "text/plain": [
       "{'year': 2018,\n",
       " 'team': 'Boston Celtics',\n",
       " 'score': 126,\n",
       " 'competitor': 'Boston Celtics',\n",
       " 'competitor_score': 94}"
      ]
     },
     "execution_count": 14,
     "metadata": {},
     "output_type": "execute_result"
    }
   ],
   "source": [
    "def select_data(data):\n",
    "    return {\n",
    "        \"year\": data[\"season\"],\n",
    "        \"team\": data[\"home_team\"][\"full_name\"],\n",
    "        \"score\": data[\"home_team_score\"],\n",
    "        \"competitor\": data[\"home_team\"][\"full_name\"],\n",
    "        \"competitor_score\": data[\"visitor_team_score\"],\n",
    "    }\n",
    "\n",
    "game = [select_data(g) for g in nba_games['data']]\n",
    "\n",
    "print(f'{len(game)} games were found')\n",
    "game[0]"
   ]
  }
 ],
 "metadata": {
  "kernelspec": {
   "display_name": "Python 3 (ipykernel)",
   "language": "python",
   "name": "python3"
  },
  "language_info": {
   "codemirror_mode": {
    "name": "ipython",
    "version": 3
   },
   "file_extension": ".py",
   "mimetype": "text/x-python",
   "name": "python",
   "nbconvert_exporter": "python",
   "pygments_lexer": "ipython3",
   "version": "3.9.1"
  }
 },
 "nbformat": 4,
 "nbformat_minor": 5
}
